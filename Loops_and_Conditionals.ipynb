{
 "cells": [
  {
   "cell_type": "code",
   "execution_count": 3,
   "metadata": {},
   "outputs": [
    {
     "name": "stdout",
     "output_type": "stream",
     "text": [
      "correct\n"
     ]
    }
   ],
   "source": [
    "secret = 7\n",
    "guess = 7\n",
    "if secret>guess:\n",
    "    print(\"too low\")\n",
    "elif secret<guess:\n",
    "    print(\"too high\")\n",
    "else:\n",
    "    print(\"correct\")\n"
   ]
  },
  {
   "cell_type": "code",
   "execution_count": 5,
   "metadata": {},
   "outputs": [
    {
     "name": "stdout",
     "output_type": "stream",
     "text": [
      "it is small\n",
      "It is green\n",
      "pea matches these choices\n"
     ]
    }
   ],
   "source": [
    "small = False\n",
    "green = True\n",
    "if small:\n",
    "    print (\"it is not small\")\n",
    "else:\n",
    "    print(\"it is small\")\n",
    "\n",
    "if green: \n",
    "    print (\"It is green\")\n",
    "else:\n",
    "    print(\"it is not green\")\n",
    "print(\"a pea matches these choices\")\n"
   ]
  },
  {
   "cell_type": "code",
   "execution_count": 8,
   "metadata": {},
   "outputs": [
    {
     "name": "stdout",
     "output_type": "stream",
     "text": [
      "0\n",
      "1\n",
      "2\n",
      "3\n"
     ]
    }
   ],
   "source": [
    "for list in range(0,4,1):\n",
    "    print (list)"
   ]
  },
  {
   "cell_type": "code",
   "execution_count": 24,
   "metadata": {},
   "outputs": [
    {
     "name": "stdout",
     "output_type": "stream",
     "text": [
      "too low\n",
      "too low\n",
      "too low\n",
      "too low\n",
      "too low\n",
      "too low\n",
      "found it!\n"
     ]
    }
   ],
   "source": [
    "guess_me = 7\n",
    "number = 1\n",
    "while number != guess_me:\n",
    "    if number < guess_me:\n",
    "        print(\"too low\")\n",
    "    number = number +1\n",
    "    if number == guess_me:\n",
    "        print (\"found it!\")\n",
    "    if number > guess_me:\n",
    "        print(\"oops!\")\n",
    "        break\n",
    "         "
   ]
  },
  {
   "cell_type": "code",
   "execution_count": 25,
   "metadata": {},
   "outputs": [
    {
     "name": "stdout",
     "output_type": "stream",
     "text": [
      "too low\n",
      "too low\n",
      "too low\n",
      "too low\n",
      "too low\n",
      "found it!\n",
      "oops!\n"
     ]
    }
   ],
   "source": [
    "guess_me = 5 \n",
    "for number in range(10):\n",
    "    if number < guess_me:\n",
    "        print(\"too low\")\n",
    "    number = number +1\n",
    "    if number == guess_me:\n",
    "        print (\"found it!\")\n",
    "    if number > guess_me:\n",
    "        print(\"oops!\")\n",
    "        break"
   ]
  }
 ],
 "metadata": {
  "kernelspec": {
   "display_name": "Python 3.11.0 64-bit",
   "language": "python",
   "name": "python3"
  },
  "language_info": {
   "codemirror_mode": {
    "name": "ipython",
    "version": 3
   },
   "file_extension": ".py",
   "mimetype": "text/x-python",
   "name": "python",
   "nbconvert_exporter": "python",
   "pygments_lexer": "ipython3",
   "version": "3.11.0"
  },
  "orig_nbformat": 4,
  "vscode": {
   "interpreter": {
    "hash": "a310808a487f96380254cddf6b9a295481d7b0e55376e373a445edf9dcc97cac"
   }
  }
 },
 "nbformat": 4,
 "nbformat_minor": 2
}
